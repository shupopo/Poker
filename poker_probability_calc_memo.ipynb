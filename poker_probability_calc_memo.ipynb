{
 "cells": [
  {
   "cell_type": "code",
   "execution_count": 1,
   "metadata": {},
   "outputs": [],
   "source": [
    "from scipy import special as sp"
   ]
  },
  {
   "cell_type": "markdown",
   "metadata": {},
   "source": [
    "### JJをもっているとき、FlopでA or K or Qが含まれる確率"
   ]
  },
  {
   "cell_type": "code",
   "execution_count": 7,
   "metadata": {},
   "outputs": [
    {
     "data": {
      "text/plain": [
       "0.5695918367346939"
      ]
     },
     "execution_count": 7,
     "metadata": {},
     "output_type": "execute_result"
    }
   ],
   "source": [
    "a = special.comb(50,3)\n",
    "b = special.comb(38,3)\n",
    "ans = 1-b/a\n",
    "ans"
   ]
  },
  {
   "cell_type": "markdown",
   "metadata": {},
   "source": [
    "### QQをもっているとき、FlopでA or Kが含まれる確率"
   ]
  },
  {
   "cell_type": "code",
   "execution_count": 3,
   "metadata": {},
   "outputs": [
    {
     "data": {
      "text/plain": [
       "0.41428571428571426"
      ]
     },
     "execution_count": 3,
     "metadata": {},
     "output_type": "execute_result"
    }
   ],
   "source": [
    "a = special.comb(50,3)\n",
    "b = special.comb(42,3)\n",
    "ans = 1-b/a\n",
    "ans"
   ]
  },
  {
   "cell_type": "markdown",
   "metadata": {},
   "source": [
    "### KKをもっているとき、FlopでAが含まれる確率"
   ]
  },
  {
   "cell_type": "code",
   "execution_count": 4,
   "metadata": {},
   "outputs": [
    {
     "data": {
      "text/plain": [
       "0.2255102040816327"
      ]
     },
     "execution_count": 4,
     "metadata": {},
     "output_type": "execute_result"
    }
   ],
   "source": [
    "a = special.comb(50,3)\n",
    "b = special.comb(46,3)\n",
    "ans = 1-b/a\n",
    "ans"
   ]
  },
  {
   "cell_type": "markdown",
   "metadata": {},
   "source": [
    "### AKをもっているとき、FlopにA or Kが含まれる確率"
   ]
  },
  {
   "cell_type": "code",
   "execution_count": 8,
   "metadata": {},
   "outputs": [
    {
     "data": {
      "text/plain": [
       "0.3242857142857143"
      ]
     },
     "execution_count": 8,
     "metadata": {},
     "output_type": "execute_result"
    }
   ],
   "source": [
    "a = special.comb(50,3)\n",
    "b = special.comb(44,3)\n",
    "ans = 1-b/a\n",
    "ans"
   ]
  },
  {
   "cell_type": "markdown",
   "metadata": {},
   "source": [
    "### JJをもっているとき、相手にAA-QQがある確率"
   ]
  },
  {
   "cell_type": "code",
   "execution_count": 5,
   "metadata": {},
   "outputs": [
    {
     "name": "stdout",
     "output_type": "stream",
     "text": [
      "18.0\n"
     ]
    },
    {
     "data": {
      "text/plain": [
       "0.014693877551020407"
      ]
     },
     "execution_count": 5,
     "metadata": {},
     "output_type": "execute_result"
    }
   ],
   "source": [
    "# AA-QQのコンボ数 \n",
    "aaqqcomb = special.comb(4,2)*3\n",
    "print(aaqqcomb)\n",
    "totalcomb = special.comb(50,2)\n",
    "ans = aaqqcomb/totalcomb\n",
    "ans\n",
    "# 3betの中にAA-QQがある確率を求める場合、分母のコンボ数を変更する必要がある"
   ]
  },
  {
   "cell_type": "markdown",
   "metadata": {},
   "source": [
    "### Flop LLL-MMMのとき、相手にセットができる確率　"
   ]
  },
  {
   "cell_type": "code",
   "execution_count": 7,
   "metadata": {},
   "outputs": [
    {
     "data": {
      "text/plain": [
       "9.0"
      ]
     },
     "execution_count": 7,
     "metadata": {},
     "output_type": "execute_result"
    }
   ],
   "source": [
    "import math\n",
    "# たとえば、357のとき、相手の、33,55,77のコンボ数　こちらはAAとする\n",
    "\n",
    "setcomb = special.comb(3,2)*3\n",
    "setcomb"
   ]
  },
  {
   "cell_type": "markdown",
   "metadata": {},
   "source": [
    "### ポケットペアがフロップでセットになる確率"
   ]
  },
  {
   "cell_type": "code",
   "execution_count": 4,
   "metadata": {},
   "outputs": [
    {
     "name": "stdout",
     "output_type": "stream",
     "text": [
      "0.11755102040816323\n",
      "0.1551020408163265\n",
      "0.19183673469387752\n"
     ]
    }
   ],
   "source": [
    "from scipy import special as sp\n",
    "ans = 1-sp.comb(48,3)/sp.comb(50,3)\n",
    "print(ans)\n",
    "# ターンまでにセットになる確率\n",
    "ans = 1-sp.comb(48,4)/sp.comb(50,4)\n",
    "print(ans)\n",
    "# リバーまでにセットになる確率\n",
    "ans = 1-sp.comb(48,5)/sp.comb(50,5)\n",
    "print(ans)"
   ]
  },
  {
   "cell_type": "markdown",
   "metadata": {},
   "source": [
    "### フロップ２ペアになる確率"
   ]
  },
  {
   "cell_type": "code",
   "execution_count": 5,
   "metadata": {},
   "outputs": [
    {
     "data": {
      "text/plain": [
       "0.022040816326530613"
      ]
     },
     "execution_count": 5,
     "metadata": {},
     "output_type": "execute_result"
    }
   ],
   "source": [
    "total_comb = sp.comb(50,3)\n",
    "twopair_comb = 3*3*sp.comb(48,1)\n",
    "ans = twopair_comb/total_comb\n",
    "ans"
   ]
  },
  {
   "cell_type": "markdown",
   "metadata": {},
   "source": [
    "### リバーまでに２ペアになる確率？"
   ]
  },
  {
   "cell_type": "code",
   "execution_count": 9,
   "metadata": {},
   "outputs": [
    {
     "data": {
      "text/plain": [
       "0.07346938775510205"
      ]
     },
     "execution_count": 9,
     "metadata": {},
     "output_type": "execute_result"
    }
   ],
   "source": [
    "total_comb = sp.comb(50,5)\n",
    "twopair_comb = 3*3*sp.comb(48,3)\n",
    "ans = twopair_comb/total_comb\n",
    "ans"
   ]
  },
  {
   "cell_type": "markdown",
   "metadata": {},
   "source": [
    "### フロップでペアができたとき、リバーまでにホールカードで２ペアになる確率?"
   ]
  },
  {
   "cell_type": "code",
   "execution_count": 2,
   "metadata": {},
   "outputs": [
    {
     "data": {
      "text/plain": [
       "0.1276595744680851"
      ]
     },
     "execution_count": 2,
     "metadata": {},
     "output_type": "execute_result"
    }
   ],
   "source": [
    "total_comb = sp.comb(47,2)\n",
    "twopair_comb = sp.comb(3,1)*sp.comb(46,1)\n",
    "ans = twopair_comb/total_comb\n",
    "ans"
   ]
  },
  {
   "cell_type": "markdown",
   "metadata": {},
   "source": [
    "### フロップフラッシュドローになる確率"
   ]
  },
  {
   "cell_type": "code",
   "execution_count": 10,
   "metadata": {},
   "outputs": [
    {
     "data": {
      "text/plain": [
       "0.1346938775510204"
      ]
     },
     "execution_count": 10,
     "metadata": {},
     "output_type": "execute_result"
    }
   ],
   "source": [
    "total_comb = sp.comb(50,3)\n",
    "flushdraw_comb = sp.comb(11,2)*sp.comb(48,1)\n",
    "ans = flushdraw_comb/total_comb\n",
    "ans"
   ]
  },
  {
   "cell_type": "markdown",
   "metadata": {},
   "source": [
    "### フロップでトリップスになる確率"
   ]
  },
  {
   "cell_type": "code",
   "execution_count": 2,
   "metadata": {},
   "outputs": [
    {
     "data": {
      "text/plain": [
       "0.013469387755102041"
      ]
     },
     "execution_count": 2,
     "metadata": {},
     "output_type": "execute_result"
    }
   ],
   "source": [
    "total_comb = sp.comb(50,3)\n",
    "trips_comb = 2*sp.comb(3,2)*sp.comb(44,1)\n",
    "ans = trips_comb/total_comb\n",
    "ans"
   ]
  },
  {
   "cell_type": "code",
   "execution_count": null,
   "metadata": {},
   "outputs": [],
   "source": []
  }
 ],
 "metadata": {
  "kernelspec": {
   "display_name": "Python 3",
   "language": "python",
   "name": "python3"
  },
  "language_info": {
   "codemirror_mode": {
    "name": "ipython",
    "version": 3
   },
   "file_extension": ".py",
   "mimetype": "text/x-python",
   "name": "python",
   "nbconvert_exporter": "python",
   "pygments_lexer": "ipython3",
   "version": "3.6.8"
  }
 },
 "nbformat": 4,
 "nbformat_minor": 2
}
